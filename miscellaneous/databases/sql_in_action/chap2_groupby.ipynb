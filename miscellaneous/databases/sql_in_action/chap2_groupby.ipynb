{
 "cells": [
  {
   "cell_type": "code",
   "execution_count": 1,
   "metadata": {},
   "outputs": [],
   "source": [
    "from sqlalchemy.ext.hybrid import hybrid_method  # ,hybrid_property\n",
    "from sqlalchemy import Column, Integer, Numeric, String, DateTime,\\\n",
    "    ForeignKey, UniqueConstraint\n",
    "from sqlalchemy.orm import relationship, backref\n",
    "from datetime import datetime,timedelta\n",
    "from sqlalchemy.ext.declarative import declarative_base\n",
    "from sqlalchemy_repr import RepresentableBase\n",
    "\n",
    "\n",
    "# https://pypi.org/project/sqlalchemy-repr/\n",
    "# 各テーブルはこのクラスを継承する必要がある\n",
    "Base = declarative_base(cls=RepresentableBase)\n",
    "from sqlalchemy import Integer, Enum\n",
    "import enum\n",
    "\n",
    "class Sex(enum.Enum):\n",
    "    MAN=\"man\"\n",
    "    WOMAN=\"woman\"\n",
    "\n",
    "\n",
    "class Person(Base):\n",
    "    __tablename__=\"person\"\n",
    "    id=Column(Integer(),primary_key=True)\n",
    "    name=Column(String(256),nullable=False)\n",
    "    sex=Column(Enum(Sex),nullable=False)\n",
    "    adress=Column(String(256),nullable=False)"
   ]
  },
  {
   "cell_type": "code",
   "execution_count": 4,
   "metadata": {},
   "outputs": [
    {
     "name": "stdout",
     "output_type": "stream",
     "text": [
      "test_1596190237.35887.db\n",
      "just select\n",
      "[(<Sex.MAN: 'man'>, 3), (<Sex.WOMAN: 'woman'>, 2)]\n",
      "groupby adress\n",
      "[('nagoya', 1), ('osaka', 2), ('tokyo', 2)]\n",
      "having==2\n",
      "[('osaka', 2), ('tokyo', 2)]\n"
     ]
    }
   ],
   "source": [
    "import os\n",
    "from sqlalchemy import create_engine\n",
    "from sqlalchemy.orm import sessionmaker\n",
    "from sqlalchemy import func\n",
    "from datetime import datetime\n",
    "    # とりあえずsqliteでだめす\n",
    "test_db = f\"test_{datetime.now().timestamp()}.db\"\n",
    "print(test_db)\n",
    "if os.path.exists(test_db):\n",
    "    os.remove(test_db)\n",
    "engine = create_engine(f\"sqlite:///{test_db}\")\n",
    "Base.metadata.create_all(engine)\n",
    "Session = sessionmaker(bind=engine)\n",
    "session = Session()\n",
    "    #https://carefree-se.hatenablog.com/entry/2017/12/20/000000\n",
    "persons=[Person(name=\"test\",sex=Sex.MAN,adress=\"tokyo\"),Person(name=\"tes234t\",sex=Sex.MAN,adress=\"tokyo\"),\n",
    "    Person(name=\"testere\",sex=Sex.WOMAN,adress=\"nagoya\"),Person(name=\"test4234\",sex=Sex.WOMAN,adress=\"osaka\"),\n",
    "        Person(name=\"test231\",sex=Sex.MAN,adress=\"osaka\")]\n",
    "for per in persons:\n",
    "    session.add(per)\n",
    "session.commit()\n",
    "    #session.query(Person.age, func.count(Person.age)).group_by(Person.age).all()\n",
    "res=session.query(Person.sex,func.count(Person.sex)).group_by(Person.sex).all()\n",
    "print(\"just select\")\n",
    "print(res,\"\\n\")\n",
    "res2=session.query(Person.adress,func.count(Person.adress)).group_by(Person.adress).all()\n",
    "print(\"groupby adress\")\n",
    "print(res2,\"\\n\")\n",
    "    ##having\n",
    "\n",
    "res3=session.query(Person.adress,func.count(Person.adress)).group_by(Person.adress).\\\n",
    "        having(func.count(Person.adress)==2).all()\n",
    "print(\"having==2\")\n",
    "print(res3,\"\\n\")\n",
    "session.close()\n",
    "os.remove(test_db)"
   ]
  },
  {
   "cell_type": "code",
   "execution_count": null,
   "metadata": {},
   "outputs": [],
   "source": []
  }
 ],
 "metadata": {
  "kernelspec": {
   "display_name": "Python 3",
   "language": "python",
   "name": "python3"
  },
  "language_info": {
   "codemirror_mode": {
    "name": "ipython",
    "version": 3
   },
   "file_extension": ".py",
   "mimetype": "text/x-python",
   "name": "python",
   "nbconvert_exporter": "python",
   "pygments_lexer": "ipython3",
   "version": "3.8.3"
  }
 },
 "nbformat": 4,
 "nbformat_minor": 4
}
