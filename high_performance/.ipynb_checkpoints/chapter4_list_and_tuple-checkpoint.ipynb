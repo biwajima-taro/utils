{
 "cells": [
  {
   "cell_type": "code",
   "execution_count": 2,
   "metadata": {},
   "outputs": [
    {
     "name": "stdout",
     "output_type": "stream",
     "text": [
      "29.7 ns ± 3.03 ns per loop (mean ± std. dev. of 7 runs, 10000000 loops each)\n"
     ]
    }
   ],
   "source": [
    "\n",
    "%timeit 1*3"
   ]
  },
  {
   "cell_type": "code",
   "execution_count": 7,
   "metadata": {},
   "outputs": [
    {
     "name": "stdout",
     "output_type": "stream",
     "text": [
      "599 ns ± 28.8 ns per loop (mean ± std. dev. of 7 runs, 1000000 loops each)\n"
     ]
    }
   ],
   "source": [
    "%timeit l=list(range(10))"
   ]
  },
  {
   "cell_type": "code",
   "execution_count": 6,
   "metadata": {},
   "outputs": [
    {
     "name": "stdout",
     "output_type": "stream",
     "text": [
      "53.6 ns ± 2.6 ns per loop (mean ± std. dev. of 7 runs, 10000000 loops each)\n"
     ]
    }
   ],
   "source": [
    "%%timeit l=list(range(10_000_000))\n",
    "l[100_000]"
   ]
  },
  {
   "cell_type": "code",
   "execution_count": null,
   "metadata": {},
   "outputs": [],
   "source": [
    "from typing import List\n",
    "def linear_search(needle,array):\n",
    "    for i,item in enumerate(array):\n",
    "        if item==needle:\n",
    "            return i\n",
    "    return -1\n",
    "\n",
    "\n",
    "def search_sorted_array(sorted_array:List,target_value:float)->int:\n",
    "    left,right=0,len(sorted_array)-1\n",
    "    print(left,right)\n",
    "    while left<=right:\n",
    "        print(left,right)\n",
    "        middle=int((left+right)/2)\n",
    "        value=sorted_array[middle]\n",
    "        if value==target_value:\n",
    "            print(\"finished\")\n",
    "            return middle\n",
    "        elif value<target_value:\n",
    "            left=middle+1\n",
    "        else:\n",
    "            right=middle-1\n",
    "    print(\"nothing found\")\n",
    "    return None\n",
    "\n",
    "\n",
    "\n",
    "            "
   ]
  },
  {
   "cell_type": "code",
   "execution_count": null,
   "metadata": {},
   "outputs": [],
   "source": [
    "%timeit search_sorted_array([1,2,3,4,5],3)"
   ]
  }
 ],
 "metadata": {
  "kernelspec": {
   "display_name": "Python 3",
   "language": "python",
   "name": "python3"
  },
  "language_info": {
   "codemirror_mode": {
    "name": "ipython",
    "version": 3
   },
   "file_extension": ".py",
   "mimetype": "text/x-python",
   "name": "python",
   "nbconvert_exporter": "python",
   "pygments_lexer": "ipython3",
   "version": "3.8.3"
  }
 },
 "nbformat": 4,
 "nbformat_minor": 4
}
