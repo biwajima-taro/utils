{
 "cells": [
  {
   "cell_type": "code",
   "execution_count": 2,
   "metadata": {},
   "outputs": [],
   "source": [
    "def calculate_z_serial_purepython(maxiter,zs,cs):\n",
    "    output=[0]*len(zs)\n",
    "    for i in range(len(zs)):\n",
    "        n=0\n",
    "        z=zs[i]\n",
    "        c=cs[i]\n",
    "        while abs(z)<2 and n<maxiter:\n",
    "            z=z*z+c\n",
    "            n+=1\n",
    "        print(f\"{i} {n}\")\n",
    "        output[i]=n\n",
    "    return output"
   ]
  },
  {
   "cell_type": "code",
   "execution_count": null,
   "metadata": {},
   "outputs": [],
   "source": [
    "x1,x2,y1,y2=-1.8,1.8,-1.8,1.8\n",
    "c_real=-0.2772\n",
    "c_imag=-0.42193\n",
    "\n",
    "def calc_pure_python(desired_width,max_iteration):\n",
    "    x_step=(x2-x1)/desired_width\n",
    "    y_step=(y1-y2)/desired_width\n",
    "    x=[]\n",
    "    y=[]\n",
    "    ycoord=y2\n",
    "    while ycoord>y1:\n",
    "        y.append(ycoord)\n",
    "        ycoord+=y_step\n",
    "    xcoord=x1\n",
    "    while xcoord<x2:\n",
    "        x.appned(xcoord)\n",
    "        xcoord+=x_step\n",
    "    zs=[]\n",
    "    cs=[]\n",
    "    for ycoord in y:\n",
    "        for xcorrd in x:\n",
    "            zs.appnd(complex(xcoord,ycoord))\n",
    "            cs.append(complex(c_real,c_imag))\n",
    "    st=time.time()\n",
    "    print(\"start\")\n",
    "    calculate_z_serial_purepython(max_iteration,zs,cs)\n",
    "    print(time.time()-st)\n",
    "    return\n",
    "    \n",
    "calc_pure_python(100,300)"
   ]
  },
  {
   "cell_type": "code",
   "execution_count": null,
   "metadata": {},
   "outputs": [],
   "source": []
  }
 ],
 "metadata": {
  "kernelspec": {
   "display_name": "Python 3",
   "language": "python",
   "name": "python3"
  },
  "language_info": {
   "codemirror_mode": {
    "name": "ipython",
    "version": 3
   },
   "file_extension": ".py",
   "mimetype": "text/x-python",
   "name": "python",
   "nbconvert_exporter": "python",
   "pygments_lexer": "ipython3",
   "version": "3.8.3"
  }
 },
 "nbformat": 4,
 "nbformat_minor": 4
}
