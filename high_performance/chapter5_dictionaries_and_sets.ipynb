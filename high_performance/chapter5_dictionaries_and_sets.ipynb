{
 "cells": [
  {
   "cell_type": "code",
   "execution_count": 1,
   "metadata": {},
   "outputs": [
    {
     "data": {
      "text/plain": [
       "'555-555-5555'"
      ]
     },
     "execution_count": 1,
     "metadata": {},
     "output_type": "execute_result"
    }
   ],
   "source": [
    "def find_phonenumber(phonebook,name):\n",
    "    for n,p in phonebook:\n",
    "        if n==name:\n",
    "            return p\n",
    "    return None\n",
    "\n",
    "phonebook=[(\"john\",\"555-555-5555\"),(\"albert\",\"215-123-1233\")]\n",
    "\n",
    "find_phonenumber(phonebook,\"john\")"
   ]
  },
  {
   "cell_type": "code",
   "execution_count": null,
   "metadata": {},
   "outputs": [],
   "source": [
    "def list_unique_names(phonebook):\n",
    "    unique_names=[]\n",
    "    for name,phonenumber in phonebook:\n",
    "        first,last=name.split(\" \",1)\n",
    "        for unique in unique_names:\n",
    "            if unique==first:\n",
    "                break\n",
    "            else:\n",
    "                unique_names.append(first)\n",
    "    return len(unique_names)\n",
    "\n",
    "\n",
    "\n"
   ]
  }
 ],
 "metadata": {
  "kernelspec": {
   "display_name": "Python 3",
   "language": "python",
   "name": "python3"
  },
  "language_info": {
   "codemirror_mode": {
    "name": "ipython",
    "version": 3
   },
   "file_extension": ".py",
   "mimetype": "text/x-python",
   "name": "python",
   "nbconvert_exporter": "python",
   "pygments_lexer": "ipython3",
   "version": "3.9.1"
  }
 },
 "nbformat": 4,
 "nbformat_minor": 4
}
