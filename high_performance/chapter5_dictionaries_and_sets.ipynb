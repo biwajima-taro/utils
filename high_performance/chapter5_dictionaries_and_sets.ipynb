{
 "cells": [
  {
   "cell_type": "code",
   "execution_count": 1,
   "metadata": {},
   "outputs": [
    {
     "data": {
      "text/plain": [
       "'555-555-5555'"
      ]
     },
     "execution_count": 1,
     "metadata": {},
     "output_type": "execute_result"
    }
   ],
   "source": [
    "def find_phonenumber(phonebook,name):\n",
    "    for n,p in phonebook:\n",
    "        if n==name:\n",
    "            return p\n",
    "    return None\n",
    "\n",
    "phonebook=[(\"john\",\"555-555-5555\"),(\"albert\",\"215-123-1233\")]\n",
    "\n",
    "find_phonenumber(phonebook,\"john\")"
   ]
  },
  {
   "cell_type": "code",
   "execution_count": null,
   "metadata": {},
   "outputs": [],
   "source": [
    "def list_unique_names(phonebook):\n",
    "    unique_names=[]\n",
    "    for name,phonenumber in phonebook:\n",
    "        first,last=name.split(\" \",1)\n",
    "        for unique in unique_names:\n",
    "            if unique==first:\n",
    "                break\n",
    "            else:\n",
    "                unique_names.append(first)\n",
    "    return len(unique_names)\n",
    "\n",
    "\n",
    "\n"
   ]
  },
  {
   "cell_type": "code",
   "execution_count": 5,
   "metadata": {},
   "outputs": [
    {
     "name": "stdout",
     "output_type": "stream",
     "text": [
      "False\n",
      "{<__main__.Point object at 0x000002683D8502B0>, <__main__.Point object at 0x000002683D850DC0>}\n",
      "165420748843\n",
      "165420749020\n"
     ]
    }
   ],
   "source": [
    "class Point:\n",
    "    def __init__(self,x,y):\n",
    "        self.x,self.y=x,y\n",
    "   # def __eq__(self,other):\n",
    "    #    return self.x==other.x and self.y==other.y\n",
    "p1=Point(2,3)\n",
    "p2=Point(2,3)\n",
    "print(p1==p2)\n",
    "a=set([p1,p2])\n",
    "print(a)\n",
    "print(hash(p1))\n",
    "print(hash(p2))"
   ]
  },
  {
   "cell_type": "code",
   "execution_count": 3,
   "metadata": {},
   "outputs": [
    {
     "name": "stdout",
     "output_type": "stream",
     "text": [
      "True\n"
     ]
    },
    {
     "ename": "TypeError",
     "evalue": "unhashable type: 'Point'",
     "output_type": "error",
     "traceback": [
      "\u001b[1;31m---------------------------------------------------------------------------\u001b[0m",
      "\u001b[1;31mTypeError\u001b[0m                                 Traceback (most recent call last)",
      "\u001b[1;32m<ipython-input-3-6bc477dc66da>\u001b[0m in \u001b[0;36m<module>\u001b[1;34m\u001b[0m\n\u001b[0;32m      9\u001b[0m \u001b[0mp2\u001b[0m\u001b[1;33m=\u001b[0m\u001b[0mPoint\u001b[0m\u001b[1;33m(\u001b[0m\u001b[1;36m2\u001b[0m\u001b[1;33m,\u001b[0m\u001b[1;36m3\u001b[0m\u001b[1;33m)\u001b[0m\u001b[1;33m\u001b[0m\u001b[1;33m\u001b[0m\u001b[0m\n\u001b[0;32m     10\u001b[0m \u001b[0mprint\u001b[0m\u001b[1;33m(\u001b[0m\u001b[0mp1\u001b[0m\u001b[1;33m==\u001b[0m\u001b[0mp2\u001b[0m\u001b[1;33m)\u001b[0m\u001b[1;33m\u001b[0m\u001b[1;33m\u001b[0m\u001b[0m\n\u001b[1;32m---> 11\u001b[1;33m \u001b[0ma\u001b[0m\u001b[1;33m=\u001b[0m\u001b[0mset\u001b[0m\u001b[1;33m(\u001b[0m\u001b[1;33m[\u001b[0m\u001b[0mp1\u001b[0m\u001b[1;33m,\u001b[0m\u001b[0mp2\u001b[0m\u001b[1;33m]\u001b[0m\u001b[1;33m)\u001b[0m\u001b[1;33m\u001b[0m\u001b[1;33m\u001b[0m\u001b[0m\n\u001b[0m\u001b[0;32m     12\u001b[0m \u001b[0mprint\u001b[0m\u001b[1;33m(\u001b[0m\u001b[0ma\u001b[0m\u001b[1;33m)\u001b[0m\u001b[1;33m\u001b[0m\u001b[1;33m\u001b[0m\u001b[0m\n\u001b[0;32m     13\u001b[0m \u001b[1;33m\u001b[0m\u001b[0m\n",
      "\u001b[1;31mTypeError\u001b[0m: unhashable type: 'Point'"
     ]
    }
   ],
   "source": [
    "class Point:\n",
    "    def __init__(self,x,y):\n",
    "        self.x,self.y=x,y\n",
    "    #with __eq__method ,the object become unhashable \n",
    "    #see https://stackoverflow.com/questions/1608842/types-that-define-eq-are-unhashable\n",
    "    def __eq__(self,other):\n",
    "        return self.x==other.x and self.y==other.y\n",
    "p1=Point(2,3)\n",
    "p2=Point(2,3)\n",
    "print(p1==p2)\n",
    "a=set([p1,p2])\n",
    "print(a)\n",
    "\n"
   ]
  },
  {
   "cell_type": "markdown",
   "metadata": {},
   "source": [
    "class Point:\n",
    "    def __init__(self,x,y):\n",
    "        self.x,self.y=x,y\n",
    "    def __hash__(self):\n",
    "        return hash((self.x,self.y))\n",
    "    def __eq__(self,other):\n",
    "        return self.x==other.x and self.y==other.y\n",
    "    \n",
    "p1=Point(1,1)\n",
    "p2=Point(1,1)\n",
    "a=set([p1,p2])\n",
    "\n",
    "print(a)\n",
    "\n",
    "print(Point(1,1) in a)"
   ]
  },
  {
   "cell_type": "code",
   "execution_count": 7,
   "metadata": {},
   "outputs": [
    {
     "ename": "SyntaxError",
     "evalue": "unmatched ')' (<ipython-input-7-96c87ad18acd>, line 5)",
     "output_type": "error",
     "traceback": [
      "\u001b[1;36m  File \u001b[1;32m\"<ipython-input-7-96c87ad18acd>\"\u001b[1;36m, line \u001b[1;32m5\u001b[0m\n\u001b[1;33m    return(ord(k2)-offset)+26*(ord(k1)-offset))\u001b[0m\n\u001b[1;37m                                              ^\u001b[0m\n\u001b[1;31mSyntaxError\u001b[0m\u001b[1;31m:\u001b[0m unmatched ')'\n"
     ]
    }
   ],
   "source": [
    "\n",
    "def twoletter_hash(key):\n",
    "    #key is a string length of wich is 2\n",
    "    offset=ord(\"a\")\n",
    "    k1,k2=key\n",
    "    return(ord(k2)-offset)+26*(ord(k1)-offset)"
   ]
  },
  {
   "cell_type": "code",
   "execution_count": 4,
   "metadata": {},
   "outputs": [
    {
     "name": "stdout",
     "output_type": "stream",
     "text": [
      "676\n",
      "{'test', 'abc'}\n",
      "True\n"
     ]
    }
   ],
   "source": [
    "import string\n",
    "import timeit\n",
    "class BadHash(str):\n",
    "    def __hash__(self):\n",
    "        return 42\n",
    "    \n",
    "class GoodHash(str):\n",
    "    def __hash__(self):\n",
    "        return ord(self[1])+26*ord(self[0])-2619\n",
    "\n",
    "baddict=set()\n",
    "gooddict=set()\n",
    "\n",
    "for i in string.ascii_lowercase:\n",
    "    for j in string.ascii_lowercase:\n",
    "        key=i+j\n",
    "        baddict.add(BadHash(key))\n",
    "        gooddict.add(GoodHash(key))\n",
    "        \n",
    "\n",
    "print(len(baddict))\n",
    "test=BadHash(\"test\")\n",
    "abc=BadHash(\"abc\")\n",
    "test_set=set()\n",
    "test_set.add(test)\n",
    "test_set.add(abc)\n",
    "print(test_set)\n",
    "\n",
    "print(test in test_set)"
   ]
  },
  {
   "cell_type": "code",
   "execution_count": 2,
   "metadata": {},
   "outputs": [
    {
     "name": "stdout",
     "output_type": "stream",
     "text": [
      "19.598222599999996\n"
     ]
    },
    {
     "ename": "SyntaxError",
     "evalue": "EOL while scanning string literal (<timeit-src>, line 1)",
     "output_type": "error",
     "traceback": [
      "Traceback \u001b[1;36m(most recent call last)\u001b[0m:\n",
      "  File \u001b[0;32m\"c:\\users\\tarob\\appdata\\local\\programs\\python\\python39\\lib\\site-packages\\IPython\\core\\interactiveshell.py\"\u001b[0m, line \u001b[0;32m3418\u001b[0m, in \u001b[0;35mrun_code\u001b[0m\n    exec(code_obj, self.user_global_ns, self.user_ns)\n",
      "  File \u001b[0;32m\"<ipython-input-2-5bcc2d050544>\"\u001b[0m, line \u001b[0;32m3\u001b[0m, in \u001b[0;35m<module>\u001b[0m\n    goodtime=timeit.repeat(\"key in gooddict\",setup=\"from __main__ import gooddict,GoodHash;key=GoodHash('zz)\",repeat=3,\n",
      "  File \u001b[0;32m\"c:\\users\\tarob\\appdata\\local\\programs\\python\\python39\\lib\\timeit.py\"\u001b[0m, line \u001b[0;32m238\u001b[0m, in \u001b[0;35mrepeat\u001b[0m\n    return Timer(stmt, setup, timer, globals).repeat(repeat, number)\n",
      "\u001b[1;36m  File \u001b[1;32m\"c:\\users\\tarob\\appdata\\local\\programs\\python\\python39\\lib\\timeit.py\"\u001b[1;36m, line \u001b[1;32m110\u001b[1;36m, in \u001b[1;35m__init__\u001b[1;36m\u001b[0m\n\u001b[1;33m    compile(setup, dummy_src_name, \"exec\")\u001b[0m\n",
      "\u001b[1;36m  File \u001b[1;32m\"<timeit-src>\"\u001b[1;36m, line \u001b[1;32m1\u001b[0m\n\u001b[1;33m    from __main__ import gooddict,GoodHash;key=GoodHash('zz)\u001b[0m\n\u001b[1;37m                                                            ^\u001b[0m\n\u001b[1;31mSyntaxError\u001b[0m\u001b[1;31m:\u001b[0m EOL while scanning string literal\n"
     ]
    }
   ],
   "source": [
    "badtime=timeit.repeat(\"key in baddict\",setup=\"from __main__ import baddict,BadHash;key=BadHash('zz')\",repeat=3,number=1_000_000)\n",
    "print(min(badtime))\n",
    "goodtime=timeit.repeat(\"key in gooddict\",setup=\"from __main__ import gooddict,GoodHash;key=GoodHash('zz')\",repeat=3,\n",
    "                       number=1_000_000)\n",
    "print(min(goodtime))"
   ]
  },
  {
   "cell_type": "code",
   "execution_count": null,
   "metadata": {},
   "outputs": [],
   "source": [
    "import math\n",
    "from math import sin\n",
    "\n",
    "def test1(x):\n",
    "    res=1\n",
    "    for _ in range(1000):\n",
    "        res+=math.sin(x)\n",
    "    return res\n",
    "\n",
    "def test2(x):\n",
    "    res=1\n",
    "    for _ in range(1000):\n",
    "        res+=sin(x)\n",
    "    return res\n",
    "\n",
    "def test3(x,sin=math.sin):\n",
    "    res=1\n",
    "    for _ in range(1000):\n",
    "        res+=sin(x)\n",
    "    return res\n",
    "\n"
   ]
  }
 ],
 "metadata": {
  "kernelspec": {
   "display_name": "Python 3",
   "language": "python",
   "name": "python3"
  },
  "language_info": {
   "codemirror_mode": {
    "name": "ipython",
    "version": 3
   },
   "file_extension": ".py",
   "mimetype": "text/x-python",
   "name": "python",
   "nbconvert_exporter": "python",
   "pygments_lexer": "ipython3",
   "version": "3.9.1"
  }
 },
 "nbformat": 4,
 "nbformat_minor": 4
}
