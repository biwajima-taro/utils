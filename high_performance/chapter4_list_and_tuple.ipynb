{
 "cells": [
  {
   "cell_type": "code",
   "execution_count": 2,
   "metadata": {},
   "outputs": [
    {
     "name": "stdout",
     "output_type": "stream",
     "text": [
      "29.7 ns ± 3.03 ns per loop (mean ± std. dev. of 7 runs, 10000000 loops each)\n"
     ]
    }
   ],
   "source": [
    "\n",
    "%timeit 1*3"
   ]
  },
  {
   "cell_type": "code",
   "execution_count": null,
   "metadata": {},
   "outputs": [],
   "source": []
  },
  {
   "cell_type": "code",
   "execution_count": 7,
   "metadata": {},
   "outputs": [
    {
     "name": "stdout",
     "output_type": "stream",
     "text": [
      "599 ns ± 28.8 ns per loop (mean ± std. dev. of 7 runs, 1000000 loops each)\n"
     ]
    }
   ],
   "source": [
    "%timeit l=list(range(10))"
   ]
  },
  {
   "cell_type": "code",
   "execution_count": 6,
   "metadata": {},
   "outputs": [
    {
     "name": "stdout",
     "output_type": "stream",
     "text": [
      "53.6 ns ± 2.6 ns per loop (mean ± std. dev. of 7 runs, 10000000 loops each)\n"
     ]
    }
   ],
   "source": [
    "%%timeit l=list(range(10_000_000))\n",
    "l[100_000]"
   ]
  },
  {
   "cell_type": "code",
   "execution_count": null,
   "metadata": {},
   "outputs": [],
   "source": [
    "from typing import List\n",
    "def linear_search(needle,array):\n",
    "    for i,item in enumerate(array):\n",
    "        if item==needle:\n",
    "            return i\n",
    "    return -1\n",
    "\n",
    "#binary search written by myself\n",
    "def search_sorted_array(sorted_array:List,target_value:float)->int:\n",
    "    left,right=0,len(sorted_array)-1\n",
    "    while left<=right:\n",
    "        middle=int((left+right)/2)\n",
    "        value=sorted_array[middle]\n",
    "        if value==target_value:\n",
    "            return middle\n",
    "        elif value<target_value:\n",
    "            left=middle+1\n",
    "        else:\n",
    "            right=middle-1\n",
    "    return None\n",
    "\n",
    "\n",
    "\n",
    "            "
   ]
  },
  {
   "cell_type": "code",
   "execution_count": 4,
   "metadata": {},
   "outputs": [
    {
     "name": "stdout",
     "output_type": "stream",
     "text": [
      "572 ns ± 45.6 ns per loop (mean ± std. dev. of 7 runs, 1000000 loops each)\n"
     ]
    }
   ],
   "source": [
    "%timeit search_sorted_array([1,2,3,4,5],3)"
   ]
  },
  {
   "cell_type": "code",
   "execution_count": 6,
   "metadata": {},
   "outputs": [],
   "source": [
    "def binary_search(needle,haystack):\n",
    "    imin,imax=0,len(haystack)\n",
    "    while True:\n",
    "        if imin>imax:\n",
    "            return -1\n",
    "        midpoint=(imin+imax)//2\n",
    "        if haystack[middlepoint]>needle:\n",
    "            imax=midpoint\n",
    "        elif haystack[midpoint]<needle:\n",
    "            imin=midpoint+1\n",
    "        else:\n",
    "            return midpoint\n",
    "\n",
    "    "
   ]
  },
  {
   "cell_type": "code",
   "execution_count": 1,
   "metadata": {},
   "outputs": [
    {
     "ename": "SyntaxError",
     "evalue": "invalid syntax (<ipython-input-1-88a8a811584b>, line 17)",
     "output_type": "error",
     "traceback": [
      "\u001b[1;36m  File \u001b[1;32m\"<ipython-input-1-88a8a811584b>\"\u001b[1;36m, line \u001b[1;32m17\u001b[0m\n\u001b[1;33m    new_num=\u001b[0m\n\u001b[1;37m            ^\u001b[0m\n\u001b[1;31mSyntaxError\u001b[0m\u001b[1;31m:\u001b[0m invalid syntax\n"
     ]
    }
   ],
   "source": [
    "import bisect\n",
    "import random\n",
    "def find_closest(haystack,needle):\n",
    "    i=bisect.bisect_left(haystack,needle)\n",
    "    if i==len(haystack):\n",
    "        return i-1\n",
    "    elif haystack[i]==needle:\n",
    "        return i\n",
    "    elif i>0:\n",
    "        j=i-1\n",
    "        if haystack[i]-needle>needle-haystack[j]:\n",
    "            return j\n",
    "    return i\n",
    "\n",
    "important_numbers=[]\n",
    "for i in range(10):\n",
    "    new_num=\n",
    "\n"
   ]
  },
  {
   "cell_type": "code",
   "execution_count": 4,
   "metadata": {},
   "outputs": [
    {
     "name": "stdout",
     "output_type": "stream",
     "text": [
      "113 ns ± 5.63 ns per loop (mean ± std. dev. of 7 runs, 10000000 loops each)\n",
      "21.9 ns ± 3.08 ns per loop (mean ± std. dev. of 7 runs, 10000000 loops each)\n",
      "811 ns ± 87.1 ns per loop (mean ± std. dev. of 7 runs, 1000000 loops each)\n",
      "846 ns ± 52.3 ns per loop (mean ± std. dev. of 7 runs, 1000000 loops each)\n"
     ]
    }
   ],
   "source": [
    "#creating a list is 5.1 times slower than creating a tuple ()\n",
    "%timeit l=[0,1,2,3,4,5,6,7,8,9]\n",
    "%timeit t=(0,1,2,3,4,5,6,7,8,9)\n",
    "#creating a list and tuple takes much more time with for-loop\n",
    "%timeit l1=[i for i in range(10)]\n",
    "%timeit t1=[i for i in range(10)]\n"
   ]
  },
  {
   "cell_type": "code",
   "execution_count": 7,
   "metadata": {},
   "outputs": [
    {
     "name": "stdout",
     "output_type": "stream",
     "text": [
      "The memory_profiler extension is already loaded. To reload it, use:\n",
      "  %reload_ext memory_profiler\n",
      "peak memory: 43.18 MiB, increment: 3.22 MiB\n"
     ]
    },
    {
     "name": "stderr",
     "output_type": "stream",
     "text": [
      "UsageError: Line magic function `%%memit` not found.\n"
     ]
    }
   ],
   "source": [
    "%load_ext memory_profiler\n",
    "N=100_000\n",
    "%memit [i*i for i in range(N)]\n",
    "\n",
    "%%memit l=[]\n",
    "for i in range(N):\n",
    "    l.append(i*i)"
   ]
  },
  {
   "cell_type": "code",
   "execution_count": null,
   "metadata": {},
   "outputs": [],
   "source": []
  }
 ],
 "metadata": {
  "kernelspec": {
   "display_name": "Python 3",
   "language": "python",
   "name": "python3"
  },
  "language_info": {
   "codemirror_mode": {
    "name": "ipython",
    "version": 3
   },
   "file_extension": ".py",
   "mimetype": "text/x-python",
   "name": "python",
   "nbconvert_exporter": "python",
   "pygments_lexer": "ipython3",
   "version": "3.9.1"
  }
 },
 "nbformat": 4,
 "nbformat_minor": 4
}
