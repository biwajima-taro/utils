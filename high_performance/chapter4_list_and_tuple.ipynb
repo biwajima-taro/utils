{
 "cells": [
  {
   "cell_type": "code",
   "execution_count": 2,
   "metadata": {},
   "outputs": [
    {
     "name": "stdout",
     "output_type": "stream",
     "text": [
      "29.7 ns ± 3.03 ns per loop (mean ± std. dev. of 7 runs, 10000000 loops each)\n"
     ]
    }
   ],
   "source": [
    "\n",
    "%timeit 1*3"
   ]
  },
  {
   "cell_type": "code",
   "execution_count": 7,
   "metadata": {},
   "outputs": [
    {
     "name": "stdout",
     "output_type": "stream",
     "text": [
      "599 ns ± 28.8 ns per loop (mean ± std. dev. of 7 runs, 1000000 loops each)\n"
     ]
    }
   ],
   "source": [
    "%timeit l=list(range(10))"
   ]
  },
  {
   "cell_type": "code",
   "execution_count": 6,
   "metadata": {},
   "outputs": [
    {
     "name": "stdout",
     "output_type": "stream",
     "text": [
      "53.6 ns ± 2.6 ns per loop (mean ± std. dev. of 7 runs, 10000000 loops each)\n"
     ]
    }
   ],
   "source": [
    "%%timeit l=list(range(10_000_000))\n",
    "l[100_000]"
   ]
  },
  {
   "cell_type": "code",
   "execution_count": null,
   "metadata": {},
   "outputs": [],
   "source": [
    "from typing import List\n",
    "def linear_search(needle,array):\n",
    "    for i,item in enumerate(array):\n",
    "        if item==needle:\n",
    "            return i\n",
    "    return -1\n",
    "\n",
    "#binary search written by myself\n",
    "def search_sorted_array(sorted_array:List,target_value:float)->int:\n",
    "    left,right=0,len(sorted_array)-1\n",
    "    while left<=right:\n",
    "        middle=int((left+right)/2)\n",
    "        value=sorted_array[middle]\n",
    "        if value==target_value:\n",
    "            return middle\n",
    "        elif value<target_value:\n",
    "            left=middle+1\n",
    "        else:\n",
    "            right=middle-1\n",
    "    return None\n",
    "\n",
    "\n",
    "\n",
    "            "
   ]
  },
  {
   "cell_type": "code",
   "execution_count": 4,
   "metadata": {},
   "outputs": [
    {
     "name": "stdout",
     "output_type": "stream",
     "text": [
      "572 ns ± 45.6 ns per loop (mean ± std. dev. of 7 runs, 1000000 loops each)\n"
     ]
    }
   ],
   "source": [
    "%timeit search_sorted_array([1,2,3,4,5],3)"
   ]
  },
  {
   "cell_type": "code",
   "execution_count": 6,
   "metadata": {},
   "outputs": [],
   "source": [
    "def binary_search(needle,haystack):\n",
    "    imin,imax=0,len(haystack)\n",
    "    while True:\n",
    "        if imin>imax:\n",
    "            return -1\n",
    "        midpoint=(imin+imax)//2\n",
    "        if haystack[middlepoint]>needle:\n",
    "            imax=midpoint\n",
    "        elif haystack[midpoint]<needle:\n",
    "            imin=midpoint+1\n",
    "        else:\n",
    "            return midpoint\n",
    "\n",
    "    "
   ]
  },
  {
   "cell_type": "code",
   "execution_count": null,
   "metadata": {},
   "outputs": [],
   "source": [
    "import bisect\n",
    "import random\n",
    "def find_closest(haystack,needle):\n",
    "    i=bisect.bisect_left(haystack,needle)\n",
    "    if i==len(haystack):\n",
    "        return i-1\n",
    "    elif haystack[i]==needle:\n",
    "        return i\n",
    "    elif i>0:\n",
    "        j=i-1\n",
    "        if haystack[i]-needle>needle-haystack[j]:\n",
    "            return j\n",
    "    return i\n",
    "\n",
    "important_numbers=[]\n",
    "for i in range(10):\n",
    "    new_num=\n",
    "\n"
   ]
  }
 ],
 "metadata": {
  "kernelspec": {
   "display_name": "Python 3",
   "language": "python",
   "name": "python3"
  },
  "language_info": {
   "codemirror_mode": {
    "name": "ipython",
    "version": 3
   },
   "file_extension": ".py",
   "mimetype": "text/x-python",
   "name": "python",
   "nbconvert_exporter": "python",
   "pygments_lexer": "ipython3",
   "version": "3.8.3"
  }
 },
 "nbformat": 4,
 "nbformat_minor": 4
}
