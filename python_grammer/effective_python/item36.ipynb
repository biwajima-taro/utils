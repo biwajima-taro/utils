{
 "cells": [
  {
   "cell_type": "code",
   "execution_count": 1,
   "metadata": {},
   "outputs": [
    {
     "name": "stdout",
     "output_type": "stream",
     "text": [
      "<class 'itertools.chain'>\n",
      "1\n",
      "2\n",
      "3\n",
      "4\n",
      "3\n",
      "4\n",
      "5\n",
      "[]\n"
     ]
    }
   ],
   "source": [
    "import itertools\n",
    "it=itertools.chain([1,2,3,4],[3,4,5])\n",
    "print(type(it))\n",
    "for i in it:\n",
    "    print(i)\n",
    "print(list(it))\n"
   ]
  },
  {
   "cell_type": "code",
   "execution_count": 5,
   "metadata": {},
   "outputs": [
    {
     "name": "stdout",
     "output_type": "stream",
     "text": [
      "[1, 2, 1, 2, 1, 2, 1, 2, 1, 2, 1]\n",
      "11\n"
     ]
    }
   ],
   "source": [
    "it=itertools.cycle([1,2])\n",
    "result=[next(it) for _ in range(11)]\n",
    "print(result)\n",
    "print(len(result))"
   ]
  },
  {
   "cell_type": "code",
   "execution_count": 9,
   "metadata": {},
   "outputs": [
    {
     "name": "stdout",
     "output_type": "stream",
     "text": [
      "['first', 'second']\n",
      "['first', 'second']\n",
      "['first', 'second']\n",
      "[]\n"
     ]
    }
   ],
   "source": [
    "it1,it2,it3=itertools.tee([\"first\",\"second\"],3)\n",
    "print(list(it1))\n",
    "print(list(it2))\n",
    "print(list(it3))\n",
    "print(list(it1))"
   ]
  },
  {
   "cell_type": "code",
   "execution_count": 12,
   "metadata": {},
   "outputs": [
    {
     "name": "stdout",
     "output_type": "stream",
     "text": [
      "zip: [('one', 1), ('two', 2)]\n"
     ]
    }
   ],
   "source": [
    "keys=[\"one\",\"two\",\"three\"]\n",
    "values=[1,2]\n",
    "normal=list(zip(keys,values))\n",
    "print(\"zip:\",normal)"
   ]
  },
  {
   "cell_type": "code",
   "execution_count": 13,
   "metadata": {},
   "outputs": [
    {
     "name": "stdout",
     "output_type": "stream",
     "text": [
      "zip_longest: [('one', 1), ('two', 2), ('three', 'nope')]\n"
     ]
    }
   ],
   "source": [
    "it=itertools.zip_longest(keys,values,fillvalue=\"nope\")\n",
    "longest=list(it)\n",
    "print(\"zip_longest:\",longest)"
   ]
  }
 ],
 "metadata": {
  "kernelspec": {
   "display_name": "Python 3",
   "language": "python",
   "name": "python3"
  },
  "language_info": {
   "codemirror_mode": {
    "name": "ipython",
    "version": 3
   },
   "file_extension": ".py",
   "mimetype": "text/x-python",
   "name": "python",
   "nbconvert_exporter": "python",
   "pygments_lexer": "ipython3",
   "version": "3.9.1"
  }
 },
 "nbformat": 4,
 "nbformat_minor": 4
}
