{
 "cells": [
  {
   "cell_type": "code",
   "execution_count": 2,
   "metadata": {},
   "outputs": [
    {
     "name": "stdout",
     "output_type": "stream",
     "text": [
      "before {'exists': 5}\n",
      "Value for foo\n",
      "after {'exists': 5, 'foo': 'Value for foo'}\n"
     ]
    }
   ],
   "source": [
    "class LazyRecord:\n",
    "    def __init__(self):\n",
    "        self.exists=5\n",
    "    def __getattr__(self,name):\n",
    "        value=f\"Value for {name}\"\n",
    "        setattr(self,name,value)\n",
    "        return value\n",
    "    \n",
    "data=LazyRecord()\n",
    "print(\"before\",data.__dict__)\n",
    "print(data.foo)\n",
    "print(\"after\",data.__dict__)"
   ]
  },
  {
   "cell_type": "code",
   "execution_count": 5,
   "metadata": {},
   "outputs": [
    {
     "name": "stdout",
     "output_type": "stream",
     "text": [
      "before {'exists': 5}\n",
      "**called __getattr__('foo')\n",
      "\n",
      "**returning 'Value for foo'\n",
      "\n",
      "first foo Value for foo\n",
      "second foo Value for foo\n"
     ]
    }
   ],
   "source": [
    "class LoggingLazyRecord(LazyRecord):\n",
    "    def __getattr__(self,name):\n",
    "        print(f\"**called __getattr__({name!r})\\n\")\n",
    "        result=super().__getattr__(name)\n",
    "        print(f\"**returning {result!r}\\n\")\n",
    "        return result\n",
    "    \n",
    "data=LoggingLazyRecord()\n",
    "print(\"before\",data.__dict__)\n",
    "print(\"first foo\",data.foo)\n",
    "print(\"second foo\",data.foo)"
   ]
  },
  {
   "cell_type": "code",
   "execution_count": null,
   "metadata": {},
   "outputs": [],
   "source": [
    "class ValidatingRecorda:\n",
    "    def __init__(self):\n",
    "        self.exists=5\n",
    "    def __getattribute__(self,name):\n",
    "        print(f\"**called __getattribute__ {name!r}\\n\")\n",
    "        try=value"
   ]
  }
 ],
 "metadata": {
  "kernelspec": {
   "display_name": "Python 3",
   "language": "python",
   "name": "python3"
  },
  "language_info": {
   "codemirror_mode": {
    "name": "ipython",
    "version": 3
   },
   "file_extension": ".py",
   "mimetype": "text/x-python",
   "name": "python",
   "nbconvert_exporter": "python",
   "pygments_lexer": "ipython3",
   "version": "3.8.3"
  }
 },
 "nbformat": 4,
 "nbformat_minor": 4
}
