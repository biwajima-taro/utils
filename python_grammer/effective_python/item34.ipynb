{
 "cells": [
  {
   "cell_type": "code",
   "execution_count": 24,
   "metadata": {},
   "outputs": [
    {
     "name": "stdout",
     "output_type": "stream",
     "text": [
      "Output:  0.0\n",
      "Output:  2.1\n",
      "Output:  3.0\n",
      "Output:  2.1\n",
      "Output:  0.0\n",
      "Output: -2.1\n",
      "Output: -3.0\n",
      "Output: -2.1\n"
     ]
    }
   ],
   "source": [
    "import math\n",
    "\n",
    "def wave(amplitude,steps):\n",
    "    step_size=2*math.pi/steps\n",
    "    for step in range(steps):\n",
    "        radians=step*step_size\n",
    "        fraction=math.sin(radians)\n",
    "        output=amplitude*fraction\n",
    "        yield output\n",
    "        \n",
    "def transmit(output):\n",
    "    if output is None:\n",
    "        print(f\"output is None\")\n",
    "    else:\n",
    "        print(f\"Output:{output:>5.1f}\")\n",
    "\n",
    "def run(it):\n",
    "    for output in it:\n",
    "        transmit(output)\n",
    "\n",
    "        \n",
    "run(wave(3.0,8))"
   ]
  },
  {
   "cell_type": "code",
   "execution_count": 35,
   "metadata": {},
   "outputs": [
    {
     "name": "stdout",
     "output_type": "stream",
     "text": [
      "output=1\n",
      "received=None\n",
      "output=1\n",
      "received='hello'\n",
      "None\n"
     ]
    }
   ],
   "source": [
    "def my_generator():\n",
    "    received=yield 1\n",
    "    print(f\"{received=}\")\n",
    "\n",
    "it=iter(my_generator())\n",
    "output=next(it)\n",
    "print(f\"{output=}\")\n",
    "\n",
    "try:\n",
    "    next(it)\n",
    "except StopIteration:\n",
    "    pass\n",
    "else:\n",
    "    assert False\n",
    "\n",
    "it=iter(my_generator())\n",
    "output=it.send(None)\n",
    "print(f\"{output=}\")\n",
    "a=None\n",
    "try:\n",
    "    a=it.send(\"hello\")\n",
    "except StopIteration:\n",
    "    pass\n",
    "print(a)"
   ]
  },
  {
   "cell_type": "code",
   "execution_count": 28,
   "metadata": {},
   "outputs": [
    {
     "name": "stdout",
     "output_type": "stream",
     "text": [
      "1\n",
      "received=None\n",
      "2\n",
      "tmp=None !!!!!!!!!!!!!!!!!!!!!!!!!\n",
      "output=1\n",
      "received='hello!'\n"
     ]
    }
   ],
   "source": [
    "def my_generator():\n",
    "    received=yield 1\n",
    "    print(f\"{received=}\")\n",
    "    tmp=yield 2\n",
    "    print(f\"{tmp=} !!!!!!!!!!!!!!!!!!!!!!!!!\")\n",
    "    yield None\n",
    "    \n",
    "func=my_generator()\n",
    "print(next(func))\n",
    "print(next(func))\n",
    "next(func)\n",
    "\n",
    "#\n",
    "it=iter(my_generator())\n",
    "output=it.send(None)\n",
    "it.send\n",
    "print(f\"{output=}\")\n",
    "try:\n",
    "    it.send(\"hello!\")\n",
    "except StopIteration:\n",
    "    pass\n"
   ]
  },
  {
   "cell_type": "code",
   "execution_count": 26,
   "metadata": {},
   "outputs": [
    {
     "name": "stdout",
     "output_type": "stream",
     "text": [
      "0\n",
      "tmp=None\n",
      "1\n",
      "tmp=None\n",
      "2\n"
     ]
    }
   ],
   "source": [
    "def my_generator2():\n",
    "    i=0\n",
    "    while True:\n",
    "        tmp=yield i\n",
    "        print(f\"{tmp=}\")\n",
    "        i+=1\n",
    "\n",
    "        \n",
    "        \n",
    "func=my_generator2()\n",
    "print(next(func))\n",
    "print(next(func))\n",
    "print(next(func))\n",
    "\n"
   ]
  },
  {
   "cell_type": "code",
   "execution_count": 3,
   "metadata": {},
   "outputs": [
    {
     "name": "stdout",
     "output_type": "stream",
     "text": [
      "output is None\n",
      "Output:  0.0\n",
      "Output:  3.5\n",
      "Output:  6.1\n",
      "Output:  2.0\n",
      "Output:  1.7\n",
      "Output:  1.0\n",
      "Output:  0.0\n",
      "Output: -5.0\n",
      "Output: -8.7\n",
      "Output:-10.0\n",
      "Output: -8.7\n"
     ]
    }
   ],
   "source": [
    "import math\n",
    "from typing import Generator\n",
    "\n",
    "def transmit(output):\n",
    "    if output is None:\n",
    "        print(f\"output is None\")\n",
    "    else:\n",
    "        print(f\"Output:{output:>5.1f}\")\n",
    "        \n",
    "def wave_modulating(steps):\n",
    "    step_size=2*math.pi/steps\n",
    "    amplitude=yield\n",
    "    for step in range(steps):\n",
    "        radians=step*step_size\n",
    "        fraction=math.sin(radians)\n",
    "        output=amplitude*fraction\n",
    "        amplitude=yield output\n",
    "    \n",
    "def run_modulating(it:Generator):\n",
    "    amplitudes=[        None,7,7,7,2,2,2,2,10,10,10,10]\n",
    "    for amplitude in amplitudes:\n",
    "        output=it.send(amplitude)\n",
    "        transmit(output)\n",
    "\n",
    "run_modulating(wave_modulating(12))"
   ]
  },
  {
   "cell_type": "code",
   "execution_count": 5,
   "metadata": {},
   "outputs": [
    {
     "name": "stdout",
     "output_type": "stream",
     "text": [
      "inside generator:output=6\n",
      "outise generator:output=6\n",
      "amplitude=1\n",
      "inside generator:output=3\n",
      "outise generator:output=3\n",
      "amplitude=2\n",
      "inside generator:output=6\n",
      "outise generator:output=6\n",
      "amplitude=3\n",
      "inside generator:output=9\n",
      "outise generator:output=9\n",
      "amplitude=4\n",
      "inside generator:output=12\n",
      "outise generator:output=12\n",
      "amplitude=10\n",
      "inside generator:output=30\n",
      "outise generator:output=30\n",
      "amplitude=34\n",
      "inside generator:output=102\n",
      "outise generator:output=102\n",
      "amplitude=123\n",
      "inside generator:output=369\n",
      "outise generator:output=369\n",
      "amplitude=4\n",
      "inside generator:output=12\n",
      "outise generator:output=12\n"
     ]
    }
   ],
   "source": [
    "def test_generator(steps:int):\n",
    "    amplitude=2\n",
    "    for i in range(steps):\n",
    "            output=3*amplitude\n",
    "            print(f\"inside generator:{output=}\")\n",
    "            amplitude=yield output\n",
    "            print(f\"{amplitude=}\")\n",
    "        \n",
    "amplitude=[None,1,2,3,4,10,34,123,4]\n",
    "it=test_generator(10)\n",
    "for ele in amplitude:\n",
    "    output=it.send(ele)\n",
    "    print(f\"outise generator:{output=}\")"
   ]
  }
 ],
 "metadata": {
  "kernelspec": {
   "display_name": "Python 3",
   "language": "python",
   "name": "python3"
  },
  "language_info": {
   "codemirror_mode": {
    "name": "ipython",
    "version": 3
   },
   "file_extension": ".py",
   "mimetype": "text/x-python",
   "name": "python",
   "nbconvert_exporter": "python",
   "pygments_lexer": "ipython3",
   "version": "3.9.1"
  }
 },
 "nbformat": 4,
 "nbformat_minor": 4
}
