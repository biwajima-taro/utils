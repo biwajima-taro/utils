{
 "cells": [
  {
   "cell_type": "code",
   "execution_count": 2,
   "metadata": {},
   "outputs": [],
   "source": [
    "class MyBaseClass:\n",
    "    def __init__(self,value):\n",
    "        self.value=value\n",
    "\n",
    "class MyChildClass(MyBaseClass):\n",
    "    def __init__(self):\n",
    "        MyBaseClass.__init__(self,5)\n",
    "        "
   ]
  },
  {
   "cell_type": "code",
   "execution_count": 6,
   "metadata": {},
   "outputs": [
    {
     "name": "stdout",
     "output_type": "stream",
     "text": [
      "15\n"
     ]
    }
   ],
   "source": [
    "class TimeTwo:\n",
    "    def __init__(self):\n",
    "        self.value*=2\n",
    "class PlusFive:\n",
    "    def __init__(self):\n",
    "        self.value+=5\n",
    "class OneWay(MyBaseClass,TimeTwo,PlusFive):\n",
    "    def __init__(self,value):\n",
    "        MyBaseClass.__init__(self,value)\n",
    "        TimeTwo.__init__(self)\n",
    "        PlusFive.__init__(self)\n",
    "\n",
    "        \n",
    "one_way=OneWay(5)\n",
    "print(one_way.value)"
   ]
  }
 ],
 "metadata": {
  "kernelspec": {
   "display_name": "Python 3",
   "language": "python",
   "name": "python3"
  },
  "language_info": {
   "codemirror_mode": {
    "name": "ipython",
    "version": 3
   },
   "file_extension": ".py",
   "mimetype": "text/x-python",
   "name": "python",
   "nbconvert_exporter": "python",
   "pygments_lexer": "ipython3",
   "version": "3.8.3"
  }
 },
 "nbformat": 4,
 "nbformat_minor": 4
}
