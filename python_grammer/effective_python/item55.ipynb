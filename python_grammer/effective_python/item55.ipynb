{
 "cells": [
  {
   "cell_type": "code",
   "execution_count": 2,
   "metadata": {},
   "outputs": [
    {
     "name": "stdout",
     "output_type": "stream",
     "text": [
      "product put 1\n",
      "consumer got 1product put 2\n",
      "consumer got 2\n",
      "consumer done\n",
      "\n",
      "producer done\n"
     ]
    }
   ],
   "source": [
    "from queue import Queue\n",
    "import time\n",
    "from threading import Thread\n",
    "my_queue=Queue(1)\n",
    "\n",
    "def consumer():\n",
    "    time.sleep(0.1)\n",
    "    my_queue.get()\n",
    "    print(\"consumer got 1\")\n",
    "    my_queue.get()\n",
    "    print(\"consumer got 2\")\n",
    "    print(\"consumer done\")\n",
    "\n",
    "thread=Thread(target=consumer)\n",
    "thread.start()\n",
    "\n",
    "my_queue.put(object())\n",
    "print(\"product put 1\")\n",
    "#put have to wait until first get-method is called because queue can accomodate only 1 object!\n",
    "my_queue.put(object())\n",
    "print(\"product put 2\")\n",
    "print(\"producer done\")\n",
    "thread.join()\n",
    "#get is executed after each put-method is executed"
   ]
  },
  {
   "cell_type": "code",
   "execution_count": 3,
   "metadata": {},
   "outputs": [
    {
     "name": "stdout",
     "output_type": "stream",
     "text": [
      "product put 1\n",
      "product put 2\n",
      "producer done\n",
      "consumer got 1\n",
      "consumer got 2\n",
      "consumer done\n"
     ]
    }
   ],
   "source": [
    "#change queue size\n",
    "from queue import Queue\n",
    "import time\n",
    "from threading import Thread\n",
    "my_queue=Queue(2)\n",
    "\n",
    "def consumer():\n",
    "    time.sleep(0.1)\n",
    "    my_queue.get()\n",
    "    print(\"consumer got 1\")\n",
    "    my_queue.get()\n",
    "    print(\"consumer got 2\")\n",
    "    print(\"consumer done\")\n",
    "\n",
    "thread=Thread(target=consumer)\n",
    "thread.start()\n",
    "\n",
    "my_queue.put(object())\n",
    "print(\"product put 1\")\n",
    "my_queue.put(object())\n",
    "print(\"product put 2\")\n",
    "print(\"producer done\")\n",
    "thread.join()\n"
   ]
  }
 ],
 "metadata": {
  "kernelspec": {
   "display_name": "Python 3",
   "language": "python",
   "name": "python3"
  },
  "language_info": {
   "codemirror_mode": {
    "name": "ipython",
    "version": 3
   },
   "file_extension": ".py",
   "mimetype": "text/x-python",
   "name": "python",
   "nbconvert_exporter": "python",
   "pygments_lexer": "ipython3",
   "version": "3.9.1"
  }
 },
 "nbformat": 4,
 "nbformat_minor": 4
}
