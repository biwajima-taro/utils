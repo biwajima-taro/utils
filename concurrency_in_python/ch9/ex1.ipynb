{
 "cells": [
  {
   "cell_type": "code",
   "execution_count": 2,
   "metadata": {},
   "outputs": [
    {
     "name": "stdout",
     "output_type": "stream",
     "text": [
      "processing 9637529763296797\n",
      "limit=98170922\n",
      "9637529763296797 is a prime number\n",
      "processing 321\n",
      "limit=18\n",
      "321 is not a prime number\n",
      "processing 345\n",
      "limit=19\n",
      "345 is not a prime number\n",
      "4.099718332290649\n"
     ]
    }
   ],
   "source": [
    "from math import sqrt\n",
    "def is_prime(x):\n",
    "    print(f\"processing {x}\")\n",
    "    if x<2:\n",
    "        print(f\"{x} is not a prime number\")\n",
    "    elif x==2:\n",
    "        print(f\"{x} is a prime number\")\n",
    "    elif x%2==0:\n",
    "        print(f\"{x} is not a prime number\")\n",
    "    else:\n",
    "        limit=int(sqrt(x))+1\n",
    "        print(f\"{limit=}\")\n",
    "        for i in range(3,limit,2):\n",
    "            if x%i==0:\n",
    "                print(f\"{x} is not a prime number\")\n",
    "                return\n",
    "        print(f\"{x} is a prime number\")\n",
    "import time\n",
    "st=time.time()\n",
    "is_prime(9637529763296797)\n",
    "is_prime(321)\n",
    "is_prime(345)\n",
    "ed=time.time()\n",
    "print(f\"{ed-st}\")"
   ]
  },
  {
   "cell_type": "code",
   "execution_count": 5,
   "metadata": {},
   "outputs": [
    {
     "name": "stdout",
     "output_type": "stream",
     "text": [
      "there was a  problem\n",
      "This event loop is already running\n"
     ]
    },
    {
     "name": "stderr",
     "output_type": "stream",
     "text": [
      "<ipython-input-5-470f4f888821>:33: RuntimeWarning: coroutine 'main' was never awaited\n",
      "  print(str(e))\n",
      "RuntimeWarning: Enable tracemalloc to get the object allocation traceback\n"
     ]
    },
    {
     "ename": "RuntimeError",
     "evalue": "Cannot close a running event loop",
     "output_type": "error",
     "traceback": [
      "\u001b[1;31m---------------------------------------------------------------------------\u001b[0m",
      "\u001b[1;31mRuntimeError\u001b[0m                              Traceback (most recent call last)",
      "\u001b[1;32m<ipython-input-5-470f4f888821>\u001b[0m in \u001b[0;36m<module>\u001b[1;34m\u001b[0m\n\u001b[0;32m     33\u001b[0m     \u001b[0mprint\u001b[0m\u001b[1;33m(\u001b[0m\u001b[0mstr\u001b[0m\u001b[1;33m(\u001b[0m\u001b[0me\u001b[0m\u001b[1;33m)\u001b[0m\u001b[1;33m)\u001b[0m\u001b[1;33m\u001b[0m\u001b[1;33m\u001b[0m\u001b[0m\n\u001b[0;32m     34\u001b[0m \u001b[1;32mfinally\u001b[0m\u001b[1;33m:\u001b[0m\u001b[1;33m\u001b[0m\u001b[1;33m\u001b[0m\u001b[0m\n\u001b[1;32m---> 35\u001b[1;33m     \u001b[0mloop\u001b[0m\u001b[1;33m.\u001b[0m\u001b[0mclose\u001b[0m\u001b[1;33m(\u001b[0m\u001b[1;33m)\u001b[0m\u001b[1;33m\u001b[0m\u001b[1;33m\u001b[0m\u001b[0m\n\u001b[0m\u001b[0;32m     36\u001b[0m \u001b[1;33m\u001b[0m\u001b[0m\n\u001b[0;32m     37\u001b[0m \u001b[1;33m\u001b[0m\u001b[0m\n",
      "\u001b[1;32mc:\\users\\tarob\\appdata\\local\\programs\\python\\python39\\lib\\asyncio\\proactor_events.py\u001b[0m in \u001b[0;36mclose\u001b[1;34m(self)\u001b[0m\n\u001b[0;32m    672\u001b[0m     \u001b[1;32mdef\u001b[0m \u001b[0mclose\u001b[0m\u001b[1;33m(\u001b[0m\u001b[0mself\u001b[0m\u001b[1;33m)\u001b[0m\u001b[1;33m:\u001b[0m\u001b[1;33m\u001b[0m\u001b[1;33m\u001b[0m\u001b[0m\n\u001b[0;32m    673\u001b[0m         \u001b[1;32mif\u001b[0m \u001b[0mself\u001b[0m\u001b[1;33m.\u001b[0m\u001b[0mis_running\u001b[0m\u001b[1;33m(\u001b[0m\u001b[1;33m)\u001b[0m\u001b[1;33m:\u001b[0m\u001b[1;33m\u001b[0m\u001b[1;33m\u001b[0m\u001b[0m\n\u001b[1;32m--> 674\u001b[1;33m             \u001b[1;32mraise\u001b[0m \u001b[0mRuntimeError\u001b[0m\u001b[1;33m(\u001b[0m\u001b[1;34m\"Cannot close a running event loop\"\u001b[0m\u001b[1;33m)\u001b[0m\u001b[1;33m\u001b[0m\u001b[1;33m\u001b[0m\u001b[0m\n\u001b[0m\u001b[0;32m    675\u001b[0m         \u001b[1;32mif\u001b[0m \u001b[0mself\u001b[0m\u001b[1;33m.\u001b[0m\u001b[0mis_closed\u001b[0m\u001b[1;33m(\u001b[0m\u001b[1;33m)\u001b[0m\u001b[1;33m:\u001b[0m\u001b[1;33m\u001b[0m\u001b[1;33m\u001b[0m\u001b[0m\n\u001b[0;32m    676\u001b[0m             \u001b[1;32mreturn\u001b[0m\u001b[1;33m\u001b[0m\u001b[1;33m\u001b[0m\u001b[0m\n",
      "\u001b[1;31mRuntimeError\u001b[0m: Cannot close a running event loop"
     ]
    }
   ],
   "source": [
    "from math import sqrt\n",
    "import asyncio\n",
    "\n",
    "async def is_prime(x):\n",
    "    print(f\"processing {x}\")\n",
    "    if x<2:\n",
    "        print(f\"{x} is not a prime number\")\n",
    "    elif x==2:\n",
    "        print(f\"{x} is a prime number\")\n",
    "    elif x%2==0:\n",
    "        print(f\"{x} is not a prime number\")\n",
    "    else:\n",
    "        limit=int(sqrt(x))+1\n",
    "        for i in range(3,limit,2):\n",
    "            if x%i==0:\n",
    "                print(f\"{x} is not a prime number\")\n",
    "                return\n",
    "            elif i%10000==1:\n",
    "                await asyncio.sleep(0)\n",
    "        print(f\"{x} is a prime number\")\n",
    "\n",
    "async def main():\n",
    "    task1=loop.create_taska(is_prime(12983719283719))\n",
    "    task2=loop.create_task(is_prime(13123123))\n",
    "    task3=loop.create_task(is_prime(321))\n",
    "    await asyncio.wait([task1,task2,task3])\n",
    "\n",
    "try:\n",
    "    loop=asyncio.get_event_loop()\n",
    "    loop.run_until_complete(main())\n",
    "except Exception as e:\n",
    "    print(\"there was a  problem\")\n",
    "    print(str(e))\n",
    "finally:\n",
    "    loop.close()\n",
    "    \n",
    "        \n",
    "        "
   ]
  },
  {
   "cell_type": "code",
   "execution_count": null,
   "metadata": {},
   "outputs": [],
   "source": []
  }
 ],
 "metadata": {
  "kernelspec": {
   "display_name": "Python 3",
   "language": "python",
   "name": "python3"
  },
  "language_info": {
   "codemirror_mode": {
    "name": "ipython",
    "version": 3
   },
   "file_extension": ".py",
   "mimetype": "text/x-python",
   "name": "python",
   "nbconvert_exporter": "python",
   "pygments_lexer": "ipython3",
   "version": "3.9.1"
  }
 },
 "nbformat": 4,
 "nbformat_minor": 4
}
